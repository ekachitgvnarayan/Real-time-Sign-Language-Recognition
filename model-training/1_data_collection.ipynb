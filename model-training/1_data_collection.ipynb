{
 "cells": [
  {
   "cell_type": "markdown",
   "metadata": {},
   "source": [
    "# 1. Import Dependencies"
   ]
  },
  {
   "cell_type": "code",
   "execution_count": 2,
   "metadata": {},
   "outputs": [
    {
     "name": "stdout",
     "output_type": "stream",
     "text": [
      "Requirement already satisfied: opencv-python in c:\\users\\ekach\\appdata\\local\\programs\\python\\python310\\tf-gpu-env\\lib\\site-packages (4.11.0.86)\n",
      "Requirement already satisfied: numpy>=1.21.2 in c:\\users\\ekach\\appdata\\local\\programs\\python\\python310\\tf-gpu-env\\lib\\site-packages (from opencv-python) (1.24.4)\n"
     ]
    }
   ],
   "source": [
    "!pip install opencv-python"
   ]
  },
  {
   "cell_type": "code",
   "execution_count": 1,
   "metadata": {},
   "outputs": [],
   "source": [
    "# Import opencv\n",
    "import cv2 \n",
    "\n",
    "# Import uuid\n",
    "import uuid\n",
    "\n",
    "# Import Operating System\n",
    "import os\n",
    "\n",
    "# Import time\n",
    "import time"
   ]
  },
  {
   "cell_type": "markdown",
   "metadata": {},
   "source": [
    "# 2. Define Images to Collect"
   ]
  },
  {
   "cell_type": "code",
   "execution_count": 3,
   "metadata": {},
   "outputs": [],
   "source": [
    "#'G','P','Q','R','S','T','U','V','W','X','Y'\n",
    "labels = ['manogna']\n",
    "number_imgs = 10"
   ]
  },
  {
   "cell_type": "markdown",
   "metadata": {},
   "source": [
    "# 3. Setup Folders "
   ]
  },
  {
   "cell_type": "code",
   "execution_count": 4,
   "metadata": {},
   "outputs": [],
   "source": [
    "IMAGES_PATH = os.path.join('Tensorflow', 'workspace', 'images', 'collectedimages')"
   ]
  },
  {
   "cell_type": "code",
   "execution_count": 5,
   "metadata": {},
   "outputs": [],
   "source": [
    "if not os.path.exists(IMAGES_PATH):\n",
    "    if os.name == 'posix':\n",
    "        !mkdir -p {IMAGES_PATH}\n",
    "    if os.name == 'nt':\n",
    "         !mkdir {IMAGES_PATH}\n",
    "for label in labels:\n",
    "    path = os.path.join(IMAGES_PATH, label)\n",
    "    if not os.path.exists(path):\n",
    "        !mkdir {path}"
   ]
  },
  {
   "cell_type": "markdown",
   "metadata": {},
   "source": [
    "# 4. Capture Images"
   ]
  },
  {
   "cell_type": "code",
   "execution_count": 6,
   "metadata": {},
   "outputs": [
    {
     "name": "stdout",
     "output_type": "stream",
     "text": [
      "Collecting images for manogna\n",
      "Capturing next alphabet in 10 seconds\n",
      "Collecting image 0\n",
      "Keep the pose intended. will wait for 5secs\n",
      "Done capturing! Change the pose!!\n",
      "Collecting image 1\n",
      "Keep the pose intended. will wait for 5secs\n",
      "Done capturing! Change the pose!!\n",
      "Collecting image 2\n",
      "Keep the pose intended. will wait for 5secs\n",
      "Done capturing! Change the pose!!\n",
      "Collecting image 3\n",
      "Keep the pose intended. will wait for 5secs\n",
      "Done capturing! Change the pose!!\n",
      "Collecting image 4\n",
      "Keep the pose intended. will wait for 5secs\n",
      "Done capturing! Change the pose!!\n",
      "Collecting image 5\n",
      "Keep the pose intended. will wait for 5secs\n",
      "Done capturing! Change the pose!!\n",
      "Collecting image 6\n",
      "Keep the pose intended. will wait for 5secs\n",
      "Done capturing! Change the pose!!\n",
      "Collecting image 7\n",
      "Keep the pose intended. will wait for 5secs\n",
      "Done capturing! Change the pose!!\n",
      "Collecting image 8\n",
      "Keep the pose intended. will wait for 5secs\n",
      "Done capturing! Change the pose!!\n",
      "Collecting image 9\n",
      "Keep the pose intended. will wait for 5secs\n",
      "Done capturing! Change the pose!!\n"
     ]
    }
   ],
   "source": [
    "for label in labels:\n",
    "    cap = cv2.VideoCapture(0)\n",
    "    print('Collecting images for {}'.format(label))\n",
    "    print(\"Capturing next alphabet in 10 seconds\")\n",
    "    time.sleep(15)\n",
    "    for imgnum in range(number_imgs):\n",
    "        print('Collecting image {}'.format(imgnum))\n",
    "        print(\"Keep the pose intended. will wait for 5secs\")\n",
    "        time.sleep(5)\n",
    "        ret, frame = cap.read()\n",
    "        imgname = os.path.join(IMAGES_PATH,label,label+'.'+'{}.jpg'.format(str(uuid.uuid1())))\n",
    "        cv2.imwrite(imgname, frame)\n",
    "        cv2.imshow('frame', frame)\n",
    "        print(\"Done capturing! Change the pose!!\")\n",
    "        time.sleep(5)\n",
    "\n",
    "        if cv2.waitKey(1) & 0xFF == ord('q'):\n",
    "            break\n",
    "cap.release()\n",
    "cv2.destroyAllWindows()"
   ]
  },
  {
   "cell_type": "markdown",
   "metadata": {},
   "source": [
    "# 5. Image Labelling"
   ]
  },
  {
   "cell_type": "code",
   "execution_count": 13,
   "metadata": {},
   "outputs": [
    {
     "name": "stdout",
     "output_type": "stream",
     "text": [
      "Collecting pyqt5\n",
      "  Using cached PyQt5-5.15.11-cp38-abi3-win_amd64.whl.metadata (2.1 kB)\n",
      "Requirement already satisfied: lxml in c:\\users\\ekach\\appdata\\local\\programs\\python\\python310\\tf-gpu-env\\lib\\site-packages (5.3.1)\n",
      "Collecting PyQt5-sip<13,>=12.15 (from pyqt5)\n",
      "  Downloading PyQt5_sip-12.17.0-cp310-cp310-win_amd64.whl.metadata (492 bytes)\n",
      "Collecting PyQt5-Qt5<5.16.0,>=5.15.2 (from pyqt5)\n",
      "  Using cached PyQt5_Qt5-5.15.2-py3-none-win_amd64.whl.metadata (552 bytes)\n",
      "Using cached PyQt5-5.15.11-cp38-abi3-win_amd64.whl (6.9 MB)\n",
      "Using cached PyQt5_Qt5-5.15.2-py3-none-win_amd64.whl (50.1 MB)\n",
      "Downloading PyQt5_sip-12.17.0-cp310-cp310-win_amd64.whl (59 kB)\n",
      "Installing collected packages: PyQt5-Qt5, PyQt5-sip, pyqt5\n",
      "Successfully installed PyQt5-Qt5-5.15.2 PyQt5-sip-12.17.0 pyqt5-5.15.11\n"
     ]
    }
   ],
   "source": [
    "!pip install --upgrade pyqt5 lxml"
   ]
  },
  {
   "cell_type": "code",
   "execution_count": 24,
   "metadata": {},
   "outputs": [
    {
     "name": "stdout",
     "output_type": "stream",
     "text": [
      "Package                       Version\n",
      "----------------------------- --------------\n",
      "absl-py                       1.4.0\n",
      "anyio                         4.8.0\n",
      "apache-beam                   2.46.0\n",
      "argon2-cffi                   23.1.0\n",
      "argon2-cffi-bindings          21.2.0\n",
      "array-record                  0.4.1\n",
      "arrow                         1.3.0\n",
      "asttokens                     3.0.0\n",
      "astunparse                    1.6.3\n",
      "async-lru                     2.0.4\n",
      "attrs                         25.1.0\n",
      "avro-python3                  1.10.2\n",
      "babel                         2.17.0\n",
      "beautifulsoup4                4.13.3\n",
      "bleach                        6.2.0\n",
      "build                         1.2.2.post1\n",
      "cachetools                    5.5.2\n",
      "certifi                       2025.1.31\n",
      "cffi                          1.17.1\n",
      "charset-normalizer            3.4.1\n",
      "click                         8.1.8\n",
      "cloudpickle                   2.2.1\n",
      "colorama                      0.4.6\n",
      "comm                          0.2.2\n",
      "contextlib2                   21.6.0\n",
      "contourpy                     1.3.1\n",
      "crcmod                        1.7\n",
      "cycler                        0.12.1\n",
      "Cython                        0.29.36\n",
      "debugpy                       1.8.13\n",
      "decorator                     5.2.1\n",
      "defusedxml                    0.7.1\n",
      "dill                          0.3.1.1\n",
      "dm-tree                       0.1.9\n",
      "docopt                        0.6.2\n",
      "einops                        0.8.1\n",
      "etils                         1.12.1\n",
      "exceptiongroup                1.2.2\n",
      "executing                     2.2.0\n",
      "fastavro                      1.10.0\n",
      "fasteners                     0.19\n",
      "fastjsonschema                2.21.1\n",
      "flatbuffers                   25.2.10\n",
      "fonttools                     4.56.0\n",
      "fqdn                          1.5.1\n",
      "fsspec                        2025.3.0\n",
      "gast                          0.4.0\n",
      "gin-config                    0.5.0\n",
      "google-api-core               2.24.1\n",
      "google-api-python-client      2.163.0\n",
      "google-auth                   2.38.0\n",
      "google-auth-httplib2          0.2.0\n",
      "google-auth-oauthlib          0.4.6\n",
      "google-pasta                  0.2.0\n",
      "googleapis-common-protos      1.63.1\n",
      "grpcio                        1.70.0\n",
      "h11                           0.14.0\n",
      "h5py                          3.13.0\n",
      "hdfs                          2.7.3\n",
      "httpcore                      1.0.7\n",
      "httplib2                      0.21.0\n",
      "httpx                         0.28.1\n",
      "idna                          3.10\n",
      "immutabledict                 4.2.1\n",
      "importlib_resources           6.5.2\n",
      "ipykernel                     6.25.2\n",
      "ipython                       8.34.0\n",
      "ipython-genutils              0.2.0\n",
      "ipywidgets                    8.1.5\n",
      "isoduration                   20.11.0\n",
      "jedi                          0.19.2\n",
      "Jinja2                        3.1.6\n",
      "joblib                        1.4.2\n",
      "json5                         0.10.0\n",
      "jsonpointer                   3.0.0\n",
      "jsonschema                    4.23.0\n",
      "jsonschema-specifications     2024.10.1\n",
      "jupyter                       1.1.1\n",
      "jupyter_client                8.6.3\n",
      "jupyter-console               6.6.3\n",
      "jupyter_core                  5.7.2\n",
      "jupyter-events                0.12.0\n",
      "jupyter-lsp                   2.2.5\n",
      "jupyter_server                2.15.0\n",
      "jupyter_server_terminals      0.5.3\n",
      "jupyterlab                    4.3.5\n",
      "jupyterlab_pygments           0.3.0\n",
      "jupyterlab_server             2.27.3\n",
      "jupyterlab_widgets            3.0.13\n",
      "kaggle                        1.6.17\n",
      "keras                         2.10.0\n",
      "Keras-Preprocessing           1.1.2\n",
      "kiwisolver                    1.4.8\n",
      "libclang                      18.1.1\n",
      "lvis                          0.5.3\n",
      "lxml                          5.3.1\n",
      "Markdown                      3.7\n",
      "MarkupSafe                    3.0.2\n",
      "matplotlib                    3.10.1\n",
      "matplotlib-inline             0.1.7\n",
      "mistune                       3.1.2\n",
      "nbclassic                     1.2.0\n",
      "nbclient                      0.10.2\n",
      "nbconvert                     7.16.6\n",
      "nbformat                      5.10.4\n",
      "nest-asyncio                  1.6.0\n",
      "notebook                      7.3.2\n",
      "notebook_shim                 0.2.4\n",
      "numpy                         1.24.4\n",
      "oauth2client                  4.1.3\n",
      "oauthlib                      3.2.2\n",
      "object-detection              0.1\n",
      "objsize                       0.6.1\n",
      "opencv-python                 4.11.0.86\n",
      "opt_einsum                    3.4.0\n",
      "orjson                        3.10.15\n",
      "overrides                     7.7.0\n",
      "packaging                     24.2\n",
      "pandas                        1.5.3\n",
      "pandocfilters                 1.5.1\n",
      "parso                         0.8.4\n",
      "Pillow                        9.2.0\n",
      "pip                           25.0.1\n",
      "platformdirs                  4.3.6\n",
      "portalocker                   3.1.1\n",
      "prometheus_client             0.21.1\n",
      "promise                       2.3\n",
      "prompt_toolkit                3.0.50\n",
      "proto-plus                    1.26.0\n",
      "protobuf                      3.19.6\n",
      "psutil                        7.0.0\n",
      "pure_eval                     0.2.3\n",
      "py-cpuinfo                    9.0.0\n",
      "pyarrow                       9.0.0\n",
      "pyasn1                        0.6.1\n",
      "pyasn1_modules                0.4.1\n",
      "pycocotools                   2.0.8\n",
      "pycparser                     2.22\n",
      "pydot                         1.4.2\n",
      "Pygments                      2.19.1\n",
      "pymongo                       3.13.0\n",
      "pyparsing                     2.4.7\n",
      "pyproject_hooks               1.2.0\n",
      "PyQt5                         5.15.11\n",
      "PyQt5-Qt5                     5.15.2\n",
      "PyQt5_sip                     12.17.0\n",
      "python-dateutil               2.9.0.post0\n",
      "python-json-logger            3.3.0\n",
      "python-slugify                8.0.4\n",
      "pytz                          2025.1\n",
      "pywin32                       308\n",
      "pywinpty                      2.0.15\n",
      "PyYAML                        5.4.1\n",
      "pyzmq                         26.2.1\n",
      "referencing                   0.36.2\n",
      "regex                         2024.11.6\n",
      "requests                      2.32.3\n",
      "requests-oauthlib             2.0.0\n",
      "rfc3339-validator             0.1.4\n",
      "rfc3986-validator             0.1.1\n",
      "rpds-py                       0.23.1\n",
      "rsa                           4.9\n",
      "sacrebleu                     2.2.0\n",
      "scikit-learn                  1.6.1\n",
      "scipy                         1.15.2\n",
      "Send2Trash                    1.8.3\n",
      "sentencepiece                 0.2.0\n",
      "seqeval                       1.2.2\n",
      "setuptools                    65.5.1\n",
      "six                           1.17.0\n",
      "sniffio                       1.3.1\n",
      "soupsieve                     2.6\n",
      "stack-data                    0.6.3\n",
      "tabulate                      0.9.0\n",
      "tensorboard                   2.10.1\n",
      "tensorboard-data-server       0.6.1\n",
      "tensorboard-plugin-wit        1.8.1\n",
      "tensorflow                    2.10.1\n",
      "tensorflow-addons             0.22.0\n",
      "tensorflow-datasets           4.9.0\n",
      "tensorflow-estimator          2.10.0\n",
      "tensorflow-hub                0.16.1\n",
      "tensorflow-io                 0.27.0\n",
      "tensorflow-io-gcs-filesystem  0.27.0\n",
      "tensorflow-metadata           1.13.0\n",
      "tensorflow-model-optimization 0.8.0\n",
      "tensorflow-text               2.10.0\n",
      "termcolor                     2.5.0\n",
      "terminado                     0.18.1\n",
      "text-unidecode                1.3\n",
      "tf-keras                      2.15.0\n",
      "tf-models-official            2.10.1\n",
      "tf-slim                       1.1.0\n",
      "threadpoolctl                 3.5.0\n",
      "tinycss2                      1.4.0\n",
      "toml                          0.10.2\n",
      "tomli                         2.2.1\n",
      "tornado                       6.4.2\n",
      "tqdm                          4.67.1\n",
      "traitlets                     5.14.3\n",
      "typeguard                     2.13.3\n",
      "types-python-dateutil         2.9.0.20241206\n",
      "typing_extensions             4.12.2\n",
      "uri-template                  1.3.0\n",
      "uritemplate                   4.1.1\n",
      "urllib3                       2.3.0\n",
      "wcwidth                       0.2.13\n",
      "webcolors                     24.11.1\n",
      "webencodings                  0.5.1\n",
      "websocket-client              1.8.0\n",
      "Werkzeug                      3.1.3\n",
      "wheel                         0.45.1\n",
      "widgetsnbextension            4.0.13\n",
      "wrapt                         1.17.2\n",
      "zipp                          3.21.0\n",
      "zstandard                     0.23.0\n"
     ]
    }
   ],
   "source": [
    "!pip list\n"
   ]
  },
  {
   "cell_type": "code",
   "execution_count": 15,
   "metadata": {},
   "outputs": [
    {
     "name": "stderr",
     "output_type": "stream",
     "text": [
      "Cloning into 'Tensorflow\\labelimg'...\n"
     ]
    }
   ],
   "source": [
    "if not os.path.exists(LABELIMG_PATH):\n",
    "    !mkdir {LABELIMG_PATH}\n",
    "    !git clone https://github.com/tzutalin/labelImg {LABELIMG_PATH}"
   ]
  },
  {
   "cell_type": "code",
   "execution_count": 16,
   "metadata": {},
   "outputs": [],
   "source": [
    "if os.name == 'posix':\n",
    "    !make qt5py3\n",
    "if os.name =='nt':\n",
    "    !cd {LABELIMG_PATH} && pyrcc5 -o libs/resources.py resources.qrc"
   ]
  },
  {
   "cell_type": "code",
   "execution_count": 19,
   "metadata": {},
   "outputs": [
    {
     "name": "stdout",
     "output_type": "stream",
     "text": [
      "Image:D:\\YouTube\\OD\\TFODCourse\\Tensorflow\\workspace\\images\\collectedimages\\thumbsup\\thumbsup.6a706a36-940f-11eb-b4eb-5cf3709bbcc6.jpg -> Annotation:D:/YouTube/OD/TFODCourse/Tensorflow/workspace/images/collectedimages/thumbsup/thumbsup.6a706a36-940f-11eb-b4eb-5cf3709bbcc6.xml\n",
      "Image:D:\\YouTube\\OD\\TFODCourse\\Tensorflow\\workspace\\images\\collectedimages\\thumbsup\\thumbsup.6ba4d864-940f-11eb-8c74-5cf3709bbcc6.jpg -> Annotation:D:/YouTube/OD/TFODCourse/Tensorflow/workspace/images/collectedimages/thumbsup/thumbsup.6ba4d864-940f-11eb-8c74-5cf3709bbcc6.xml\n",
      "Image:D:\\YouTube\\OD\\TFODCourse\\Tensorflow\\workspace\\images\\collectedimages\\thumbsup\\thumbsup.6cd9c8e2-940f-11eb-b901-5cf3709bbcc6.jpg -> Annotation:D:/YouTube/OD/TFODCourse/Tensorflow/workspace/images/collectedimages/thumbsup/thumbsup.6cd9c8e2-940f-11eb-b901-5cf3709bbcc6.xml\n",
      "Image:D:\\YouTube\\OD\\TFODCourse\\Tensorflow\\workspace\\images\\collectedimages\\thumbsup\\thumbsup.6e0f5bc0-940f-11eb-8d18-5cf3709bbcc6.jpg -> Annotation:D:/YouTube/OD/TFODCourse/Tensorflow/workspace/images/collectedimages/thumbsup/thumbsup.6e0f5bc0-940f-11eb-8d18-5cf3709bbcc6.xml\n",
      "Image:D:\\YouTube\\OD\\TFODCourse\\Tensorflow\\workspace\\images\\collectedimages\\thumbsup\\thumbsup.693a5158-940f-11eb-8752-5cf3709bbcc6.jpg -> Annotation:D:/YouTube/OD/TFODCourse/Tensorflow/workspace/images/collectedimages/thumbsup/thumbsup.693a5158-940f-11eb-8752-5cf3709bbcc6.xml\n"
     ]
    }
   ],
   "source": [
    "!cd {LABELIMG_PATH} && python labelImg.py"
   ]
  },
  {
   "cell_type": "markdown",
   "metadata": {},
   "source": [
    "# 6. Move them into a Training and Testing Partition"
   ]
  },
  {
   "cell_type": "markdown",
   "metadata": {},
   "source": [
    "# OPTIONAL - 7. Compress them for Colab Training"
   ]
  },
  {
   "cell_type": "code",
   "execution_count": 38,
   "metadata": {},
   "outputs": [],
   "source": [
    "TRAIN_PATH = os.path.join('Tensorflow', 'workspace', 'images', 'train')\n",
    "TEST_PATH = os.path.join('Tensorflow', 'workspace', 'images', 'test')\n",
    "ARCHIVE_PATH = os.path.join('Tensorflow', 'workspace', 'images', 'archive.tar.gz')"
   ]
  },
  {
   "cell_type": "code",
   "execution_count": 21,
   "metadata": {},
   "outputs": [],
   "source": [
    "!tar -czf {ARCHIVE_PATH} {TRAIN_PATH} {TEST_PATH}"
   ]
  },
  {
   "cell_type": "code",
   "execution_count": null,
   "metadata": {},
   "outputs": [],
   "source": []
  }
 ],
 "metadata": {
  "kernelspec": {
   "display_name": "Python (tf-gpu-env)",
   "language": "python",
   "name": "tf-gpu-env"
  },
  "language_info": {
   "codemirror_mode": {
    "name": "ipython",
    "version": 3
   },
   "file_extension": ".py",
   "mimetype": "text/x-python",
   "name": "python",
   "nbconvert_exporter": "python",
   "pygments_lexer": "ipython3",
   "version": "3.10.11"
  }
 },
 "nbformat": 4,
 "nbformat_minor": 4
}
